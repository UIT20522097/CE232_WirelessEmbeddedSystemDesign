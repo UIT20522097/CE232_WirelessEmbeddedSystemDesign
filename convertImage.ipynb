{
 "cells": [
  {
   "cell_type": "code",
   "execution_count": 1,
   "metadata": {},
   "outputs": [],
   "source": [
    "from PIL import Image"
   ]
  },
  {
   "cell_type": "code",
   "execution_count": 2,
   "metadata": {},
   "outputs": [],
   "source": [
    "\n",
    "def convert_to_bw(image_path):\n",
    "    # Mở ảnh\n",
    "    image = Image.open(image_path)\n",
    "    \n",
    "    # Chuyển ảnh thành đen trắng\n",
    "    bw_image = image.convert('1')\n",
    "    # Hiển thị ảnh\n",
    "    # bw_image.show()\n",
    "\n",
    "    # Lưu ảnh mới vào thư mục hiện tại\n",
    "    bw_image.save('bw_image.png')\n",
    "    return bw_image"
   ]
  },
  {
   "cell_type": "code",
   "execution_count": 3,
   "metadata": {},
   "outputs": [],
   "source": [
    "image_convert = convert_to_bw('./uit128x64.png')"
   ]
  },
  {
   "cell_type": "code",
   "execution_count": 4,
   "metadata": {},
   "outputs": [],
   "source": [
    "import numpy as np"
   ]
  },
  {
   "cell_type": "code",
   "execution_count": 5,
   "metadata": {},
   "outputs": [],
   "source": [
    "image_array = np.array(image_convert).astype(int)\n",
    "# In mảng image_array ra csv\n",
    "np.savetxt('image_array.csv', image_array, delimiter=',', fmt='%d')\n"
   ]
  },
  {
   "cell_type": "code",
   "execution_count": 6,
   "metadata": {},
   "outputs": [
    {
     "data": {
      "text/plain": [
       "array([0, 0, 0, 0, 0, 0, 0])"
      ]
     },
     "execution_count": 6,
     "metadata": {},
     "output_type": "execute_result"
    }
   ],
   "source": [
    "test = image_array[0:7, 127]\n",
    "test"
   ]
  },
  {
   "cell_type": "code",
   "execution_count": 18,
   "metadata": {},
   "outputs": [],
   "source": [
    "def bin_to_hex(array_input):\n",
    "    # Đảo ngược mảng\n",
    "    array_input = array_input[::-1]\n",
    "    # Chuyển từ dạng nhị phân sang thập lục phân\n",
    "    hex_array = 0x0\n",
    "    for i in range(len(array_input)):\n",
    "        hex_array += array_input[i] << (len(array_input) - i - 1)\n",
    "    return hex_array"
   ]
  },
  {
   "cell_type": "code",
   "execution_count": 19,
   "metadata": {},
   "outputs": [
    {
     "name": "stdout",
     "output_type": "stream",
     "text": [
      "[1, 1, 1, 0, 1, 1, 0, 1]\n",
      "237\n"
     ]
    }
   ],
   "source": [
    "print(bin_to_hex([1, 0, 1, 1, 0, 1, 1, 1]))\n",
    "\n",
    "# in ra với mã hex"
   ]
  },
  {
   "cell_type": "code",
   "execution_count": 9,
   "metadata": {},
   "outputs": [],
   "source": [
    "def def_new_array(array_input):\n",
    "    # Tạo mảng mới 128x8\n",
    "    new_array = np.zeros((8, array_input.shape[1]))\n",
    "    # Chuyển mảng 128x64 thành 128x8 theo chiều dọc\n",
    "    for i_h in range(0, 64, 8):\n",
    "        for i_w in range(array_input.shape[1]):\n",
    "            temp_ih = i_h + 1\n",
    "            new_array[i_h // 8, i_w] = bin_to_hex(array_input[temp_ih:temp_ih + 8, i_w])\n",
    "            # print(new_array[i_h // 8, i_w])\n",
    "    return new_array.astype(int)"
   ]
  },
  {
   "cell_type": "code",
   "execution_count": 10,
   "metadata": {},
   "outputs": [],
   "source": [
    "new_array = np.char.mod('0x%x', def_new_array(image_array))\n",
    "\n"
   ]
  },
  {
   "cell_type": "markdown",
   "metadata": {},
   "source": []
  },
  {
   "cell_type": "code",
   "execution_count": 11,
   "metadata": {},
   "outputs": [],
   "source": [
    "# in new_array ra file csv với kiểu dữ liệu là string\n",
    "np.savetxt('new_array.csv', new_array, delimiter=',', fmt='%s')\n",
    "\n",
    "\n"
   ]
  },
  {
   "cell_type": "code",
   "execution_count": 13,
   "metadata": {},
   "outputs": [],
   "source": [
    "# In new_array ra file .txt thành mảng 1 chiều với kiểu dữ liệu là string và xuống dòng mỗi khi in ra 128 phần tử, cuối cùng là lưu vào một biến trong file .txt đó\n",
    "with open('new_array.txt', 'w') as f:\n",
    "    for i in range(new_array.shape[0]):\n",
    "        for j in range(new_array.shape[1]):\n",
    "            f.write(str(new_array[i, j]))\n",
    "            f.write(',')\n",
    "        f.write('\\n')"
   ]
  }
 ],
 "metadata": {
  "kernelspec": {
   "display_name": "tensorflow",
   "language": "python",
   "name": "python3"
  },
  "language_info": {
   "codemirror_mode": {
    "name": "ipython",
    "version": 3
   },
   "file_extension": ".py",
   "mimetype": "text/x-python",
   "name": "python",
   "nbconvert_exporter": "python",
   "pygments_lexer": "ipython3",
   "version": "3.10.8"
  },
  "orig_nbformat": 4
 },
 "nbformat": 4,
 "nbformat_minor": 2
}
