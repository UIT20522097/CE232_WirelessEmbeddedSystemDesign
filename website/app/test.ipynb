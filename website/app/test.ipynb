{
 "cells": [
  {
   "cell_type": "code",
   "execution_count": 1,
   "metadata": {},
   "outputs": [],
   "source": [
    "import json\n",
    "import requests"
   ]
  },
  {
   "cell_type": "code",
   "execution_count": 2,
   "metadata": {},
   "outputs": [],
   "source": [
    "def get_data():\n",
    "        # URL của endpoint hoặc API\n",
    "    url = 'https://api.thingspeak.com/channels/2188986/feeds.json?results=20'\n",
    "\n",
    "    # Thực hiện yêu cầu GET để lấy dữ liệu từ server\n",
    "    response = requests.get(url)\n",
    "\n",
    "    # Kiểm tra mã trạng thái của phản hồi\n",
    "    if response.status_code == 200:  # Mã trạng thái 200 đại diện cho thành công\n",
    "        # Lấy dữ liệu từ phản hồi dưới dạng JSON\n",
    "        data = response.json()\n",
    "\n",
    "        # Xử lý dữ liệu theo nhu cầu của bạn\n",
    "        # Ví dụ: lấy giá trị của trường \"field1\" trong dữ liệu\n",
    "        field1_values = [feed['field1'] for feed in data['feeds']]\n",
    "\n",
    "        # In ra giá trị của trường \"field1\"\n",
    "        print(field1_values)\n",
    "        return field1_values\n",
    "    else:\n",
    "        print('Failed to retrieve data. Status code:', response.status_code)\n",
    "        return None"
   ]
  },
  {
   "cell_type": "code",
   "execution_count": 3,
   "metadata": {},
   "outputs": [
    {
     "name": "stdout",
     "output_type": "stream",
     "text": [
      "['30', '30', '30', '30', '28.2', '28.9', '28.9', '28.9', '28.9', '28.2', '28.1', '28.1', '28.1', '28.1', '28.1', '28.1', '28.1', '28.1', '28.1', '28.9']\n"
     ]
    },
    {
     "data": {
      "text/plain": [
       "['30',\n",
       " '30',\n",
       " '30',\n",
       " '30',\n",
       " '28.2',\n",
       " '28.9',\n",
       " '28.9',\n",
       " '28.9',\n",
       " '28.9',\n",
       " '28.2',\n",
       " '28.1',\n",
       " '28.1',\n",
       " '28.1',\n",
       " '28.1',\n",
       " '28.1',\n",
       " '28.1',\n",
       " '28.1',\n",
       " '28.1',\n",
       " '28.1',\n",
       " '28.9']"
      ]
     },
     "execution_count": 3,
     "metadata": {},
     "output_type": "execute_result"
    }
   ],
   "source": [
    "get_data()"
   ]
  },
  {
   "cell_type": "code",
   "execution_count": 1,
   "metadata": {},
   "outputs": [],
   "source": [
    "from datetime import datetime"
   ]
  },
  {
   "cell_type": "code",
   "execution_count": 4,
   "metadata": {},
   "outputs": [
    {
     "data": {
      "text/plain": [
       "'17:31:52 16/6/2023'"
      ]
     },
     "execution_count": 4,
     "metadata": {},
     "output_type": "execute_result"
    }
   ],
   "source": [
    "now = datetime.now()\n",
    "string = f\"{now.hour}:{now.minute}:{now.second} {now.day}/{now.month}/{now.year}\"\n",
    "string"
   ]
  }
 ],
 "metadata": {
  "kernelspec": {
   "display_name": "webdevelopment",
   "language": "python",
   "name": "python3"
  },
  "language_info": {
   "codemirror_mode": {
    "name": "ipython",
    "version": 3
   },
   "file_extension": ".py",
   "mimetype": "text/x-python",
   "name": "python",
   "nbconvert_exporter": "python",
   "pygments_lexer": "ipython3",
   "version": "3.10.8"
  },
  "orig_nbformat": 4
 },
 "nbformat": 4,
 "nbformat_minor": 2
}
